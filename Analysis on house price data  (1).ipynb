{
 "cells": [
  {
   "cell_type": "markdown",
   "id": "456faffa",
   "metadata": {},
   "source": [
    "# Anaysis On House Price Data\n"
   ]
  },
  {
   "cell_type": "code",
   "execution_count": 13,
   "id": "320aa1ae",
   "metadata": {},
   "outputs": [],
   "source": [
    "# import numpy \n",
    "import numpy as np\n",
    "\n",
    "#import pandas\n",
    "import pandas as pd \n",
    "\n",
    "# import seaborn\n",
    "import seaborn as sns\n",
    "\n",
    "# import matplotplib\n",
    "import matplotlib.pyplot as plt"
   ]
  },
  {
   "cell_type": "code",
   "execution_count": 14,
   "id": "4a2b4369",
   "metadata": {},
   "outputs": [],
   "source": [
    "# import the data set \n",
    "df_house_price_data = pd.read_csv(\"C:\\\\Users\\\\Admin\\\\Downloads\\\\House_Price.csv\")"
   ]
  },
  {
   "cell_type": "code",
   "execution_count": 15,
   "id": "a692b4cf",
   "metadata": {},
   "outputs": [],
   "source": [
    "# show 1st five observations of the dataset\n",
    "df_house_price_data.head()"
   ]
  },
  {
   "cell_type": "code",
   "execution_count": 16,
   "id": "b655b327",
   "metadata": {},
   "outputs": [],
   "source": [
    "# show las tfive obs of the dataset \n",
    "df_house_price_data.tail()"
   ]
  },
  {
   "cell_type": "markdown",
   "id": "76609c55",
   "metadata": {},
   "source": [
    "# 1 Data Overview "
   ]
  },
  {
   "cell_type": "code",
   "execution_count": 17,
   "id": "672cff23",
   "metadata": {},
   "outputs": [],
   "source": [
    "# show the attributes names \n",
    "df_house_price_data.columns"
   ]
  },
  {
   "cell_type": "markdown",
   "id": "8b5a4d3f",
   "metadata": {},
   "source": [
    "**columninfo**\n",
    " - `price` : price of the house.\n",
    " - `crime_rate` : crime rate in that area."
   ]
  },
  {
   "cell_type": "markdown",
   "id": "7f2488d6",
   "metadata": {},
   "source": [
    "## basic Statistics(descriptive statistics)"
   ]
  },
  {
   "cell_type": "code",
   "execution_count": 18,
   "id": "48c7fe8a",
   "metadata": {},
   "outputs": [],
   "source": [
    "# shape of the data\n",
    "# Basic info\n",
    "# Basic Description "
   ]
  },
  {
   "cell_type": "code",
   "execution_count": 19,
   "id": "de495c18",
   "metadata": {},
   "outputs": [],
   "source": [
    "# shape of the data\n",
    "df_house_price_data.shape "
   ]
  },
  {
   "cell_type": "markdown",
   "id": "54548e10",
   "metadata": {},
   "source": [
    "**Interpretetion**\n",
    "we have 506 obs and 19 attributes"
   ]
  },
  {
   "cell_type": "code",
   "execution_count": 20,
   "id": "2744d61d",
   "metadata": {},
   "outputs": [],
   "source": [
    "# Basic info \n",
    "df_house_price_data.info()"
   ]
  },
  {
   "cell_type": "markdown",
   "id": "89578b8a",
   "metadata": {},
   "source": [
    "**Interpretation**\n",
    "  - we have 16 numerical attributes it includes 15 floats and 1 integer in nature  \n",
    "  - we have 3 catagorical attributes \n",
    "  - in the data we have valid null values"
   ]
  },
  {
   "cell_type": "code",
   "execution_count": 21,
   "id": "14e99e42",
   "metadata": {},
   "outputs": [],
   "source": [
    "# Basic Description  \n",
    "df_house_price_data.describe().T"
   ]
  },
  {
   "cell_type": "markdown",
   "id": "c03dd346",
   "metadata": {},
   "source": [
    "**interpretation**\n",
    " - we have outlier in `crime_rate` , `resid_area`,`age`"
   ]
  },
  {
   "cell_type": "markdown",
   "id": "df117174",
   "metadata": {},
   "source": [
    "# 2 Data preprocessing "
   ]
  },
  {
   "cell_type": "code",
   "execution_count": 22,
   "id": "38d0aaf1",
   "metadata": {},
   "outputs": [],
   "source": [
    "# Data cleaning \n",
    "# Null Value Handlng\n",
    "# Outlier treatment\n"
   ]
  },
  {
   "cell_type": "markdown",
   "id": "722e8611",
   "metadata": {},
   "source": [
    "### Data Cleaning"
   ]
  },
  {
   "cell_type": "code",
   "execution_count": 23,
   "id": "755da806",
   "metadata": {},
   "outputs": [],
   "source": [
    "df_house_price_data.columns"
   ]
  },
  {
   "cell_type": "code",
   "execution_count": 24,
   "id": "1ebf6251",
   "metadata": {},
   "outputs": [],
   "source": [
    "# lets renme the columns \n",
    "df_house_price_data.rename (columns={'rice':`Price`})"
   ]
  },
  {
   "cell_type": "code",
   "execution_count": 25,
   "id": "df7c2cda",
   "metadata": {},
   "outputs": [],
   "source": [
    "df_house_price_data = df_house_price_data.rename (columns={'price' : 'Price' , 'crime_rate' : 'Crime_Rate' ,'resid_area' : 'Resid_Area' , 'air_qual' : 'Air_Quality','room_num' : 'Room_No' ,'age' : 'Age' , 'dist1' : 'Dist1' , 'dist2' : 'Dist2' , 'dist3' : 'Dist3'  , 'dist4' : 'Dist4', 'teachers' : 'Teachers' ,'poor_prop' : 'Poor_Prop'})"
   ]
  },
  {
   "cell_type": "code",
   "execution_count": 26,
   "id": "64124b07",
   "metadata": {},
   "outputs": [],
   "source": [
    "df_house_price_data.head()"
   ]
  },
  {
   "cell_type": "code",
   "execution_count": 27,
   "id": "cfa7817c",
   "metadata": {},
   "outputs": [],
   "source": [
    "df_house_price_data = df_house_price_data.rename (columns={'price' : 'Price' , 'crime_rate' : 'Crime_Rate' ,'resid_area' : 'Resid_Area' , 'air_qual' : 'Air_Quality','room_num' : 'Room_No' ,'age' : 'Age' , 'dist1' : 'Dist1' , 'dist2' : 'Dist2' , 'dist3' : 'Dist3'  , 'dist4' : 'Dist4', 'teachers' : 'Teachers' ,'poor_prop' : 'Poor_Prop','airport' : 'Airports','n_hos_beds' : 'N_Hos_Beds','n_hos_rooms' : 'N_Hos_Rooms','warerbody' : 'Waterbody', 'rainfall' : 'Rainfall', 'bus_ter': 'Bus_Ter','parks':'Parks'})"
   ]
  },
  {
   "cell_type": "code",
   "execution_count": 28,
   "id": "c987f13e",
   "metadata": {},
   "outputs": [],
   "source": [
    "df_house_price_data.head()"
   ]
  },
  {
   "cell_type": "code",
   "execution_count": 29,
   "id": "f896c06a",
   "metadata": {},
   "outputs": [],
   "source": [
    "df_house_price_data.head()"
   ]
  },
  {
   "cell_type": "code",
   "execution_count": 30,
   "id": "e467995a",
   "metadata": {},
   "outputs": [],
   "source": [
    "df_house_price_data.head()\n"
   ]
  },
  {
   "cell_type": "code",
   "execution_count": 31,
   "id": "622cc1f8",
   "metadata": {},
   "outputs": [],
   "source": [
    "df_house_price_data.head()\n"
   ]
  },
  {
   "cell_type": "code",
   "execution_count": 32,
   "id": "d5d2b42d",
   "metadata": {},
   "outputs": [],
   "source": [
    "# lets do the typecasting here\n",
    "# Room_No \n",
    "# Age,\n",
    "# Teachers\n",
    "# N_Hos_Beds\n",
    "# n_hot_rooms\n",
    "\n",
    "\n"
   ]
  },
  {
   "cell_type": "code",
   "execution_count": 33,
   "id": "fa1aa0c1",
   "metadata": {},
   "outputs": [],
   "source": [
    "df_house_price_data['Room_No'] = df_house_price_data['Room_No'].astype('object')"
   ]
  },
  {
   "cell_type": "code",
   "execution_count": 34,
   "id": "5879e6ab",
   "metadata": {},
   "outputs": [],
   "source": [
    "df_house_price_data['Teachers'] = df_house_price_data['Teachers'].astype('float')"
   ]
  },
  {
   "cell_type": "code",
   "execution_count": 35,
   "id": "66851fde",
   "metadata": {},
   "outputs": [],
   "source": [
    "df_house_price_data.info()\n"
   ]
  },
  {
   "cell_type": "code",
   "execution_count": 36,
   "id": "60d6877f",
   "metadata": {},
   "outputs": [],
   "source": [
    "df_house_price_data['Age'] = df_house_price_data['Age'].astype('int')"
   ]
  },
  {
   "cell_type": "code",
   "execution_count": null,
   "id": "e5d95d6e",
   "metadata": {},
   "outputs": [],
   "source": []
  },
  {
   "cell_type": "code",
   "execution_count": 37,
   "id": "ef4c0f86",
   "metadata": {},
   "outputs": [],
   "source": [
    "# df_house_price_data['N_Hos_Beds'] = df_house_price_data['N_Hos_Beds'].astype('int')"
   ]
  },
  {
   "cell_type": "code",
   "execution_count": 38,
   "id": "54546c44",
   "metadata": {},
   "outputs": [],
   "source": [
    "# in previous we did the typecasting based on observations and domain expertise \n",
    "#Now the time is for data visualisation \n",
    "\n",
    "df_house_price_data.hist()\n",
    "plt.tight_layout()\n",
    "plt.show()\n"
   ]
  },
  {
   "cell_type": "code",
   "execution_count": 39,
   "id": "e032eb4f",
   "metadata": {},
   "outputs": [],
   "source": [
    "df_house_price_data.Price.plot(kind = 'kde')\n",
    "plt.show()"
   ]
  },
  {
   "cell_type": "code",
   "execution_count": 40,
   "id": "643385d8",
   "metadata": {},
   "outputs": [],
   "source": [
    "df_house_price_data.Room_No.plot(kind = 'kde')\n",
    "plt.show()"
   ]
  },
  {
   "cell_type": "code",
   "execution_count": 41,
   "id": "30a15bb7",
   "metadata": {},
   "outputs": [],
   "source": [
    "# Room_No\n",
    "# n_hot_rooms \n",
    "df_house_price_data.n_hot_rooms.plot(kind = 'kde')\n",
    "plt.show()"
   ]
  },
  {
   "cell_type": "code",
   "execution_count": 42,
   "id": "f070ef5a",
   "metadata": {},
   "outputs": [],
   "source": [
    "df_house_price_data.Room_No.hist(color = 'black')\n",
    "plt.show()\n"
   ]
  },
  {
   "cell_type": "code",
   "execution_count": 43,
   "id": "4005395a",
   "metadata": {},
   "outputs": [],
   "source": [
    "df_house_price_data.n_hot_rooms.hist(color = 'Purple')\n",
    "plt.show()"
   ]
  },
  {
   "cell_type": "code",
   "execution_count": 44,
   "id": "0469c86c",
   "metadata": {},
   "outputs": [],
   "source": [
    "df_house_price_data['Room_No'] = df_house_price_data['Room_No'].astype('object')"
   ]
  },
  {
   "cell_type": "code",
   "execution_count": 45,
   "id": "f0c406a8",
   "metadata": {},
   "outputs": [],
   "source": [
    "df_house_price_data.info()"
   ]
  },
  {
   "cell_type": "markdown",
   "id": "90ff0cf7",
   "metadata": {},
   "source": [
    "### Null value handling \n"
   ]
  },
  {
   "cell_type": "code",
   "execution_count": 46,
   "id": "237314b9",
   "metadata": {},
   "outputs": [],
   "source": [
    "df_house_price_data.head()"
   ]
  },
  {
   "cell_type": "code",
   "execution_count": 47,
   "id": "7cf26f9c",
   "metadata": {},
   "outputs": [],
   "source": [
    "# Find the number of missing values \n",
    "df_house_price_data.isnull().sum()"
   ]
  },
  {
   "cell_type": "code",
   "execution_count": 48,
   "id": "7057b385",
   "metadata": {},
   "outputs": [],
   "source": [
    "df_house_price_data.info()"
   ]
  },
  {
   "cell_type": "code",
   "execution_count": 49,
   "id": "c4d351d4",
   "metadata": {},
   "outputs": [],
   "source": [
    "# laws \n",
    "# when we have less than 10% data is missing , remove the observations  \n",
    "# whe nwe have missing values percentage missing between 30 to 70 percent then we nedd to impute the missing values\n",
    "# when we have more than 80% data is missing , remove the attribute\n"
   ]
  },
  {
   "cell_type": "code",
   "execution_count": 50,
   "id": "e3360144",
   "metadata": {},
   "outputs": [],
   "source": [
    "round(df_house_price_data.isnull().sum()/len(df_house_price_data)*100,2)"
   ]
  },
  {
   "cell_type": "code",
   "execution_count": 51,
   "id": "1349b57a",
   "metadata": {},
   "outputs": [],
   "source": [
    "# we have less than 2% data is missing from hospital bed , lets remove the obs \n",
    "df_house_price_data.dropna(inplace = True)"
   ]
  },
  {
   "cell_type": "code",
   "execution_count": 52,
   "id": "6bbfc987",
   "metadata": {},
   "outputs": [],
   "source": [
    "df_house_price_data.isnull().sum()"
   ]
  },
  {
   "cell_type": "markdown",
   "id": "4f2e8872",
   "metadata": {},
   "source": [
    " ### Outlier detection & treatment"
   ]
  },
  {
   "cell_type": "code",
   "execution_count": 53,
   "id": "7e989363",
   "metadata": {},
   "outputs": [],
   "source": [
    "df_house_price_data.plot(kind = 'box')\n",
    "plt.xticks(rotation = 90)\n",
    "plt.title('Outlier Detection')\n",
    "plt.show();"
   ]
  },
  {
   "cell_type": "code",
   "execution_count": 54,
   "id": "d9d928c3",
   "metadata": {},
   "outputs": [],
   "source": [
    "df_num = df_house_price_data.select_dtypes(np.number)"
   ]
  },
  {
   "cell_type": "code",
   "execution_count": 55,
   "id": "26a0a272",
   "metadata": {},
   "outputs": [],
   "source": [
    "q1 = df_num.quantile(0.25)\n",
    "q3 = df_num.quantile(0.75)\n",
    "iqr = q3 - q1\n",
    "df_num = df_num[(df_num >= q1 - 1.5 * iqr)& (df_num <= q3 + 1.5 * iqr)]\n"
   ]
  },
  {
   "cell_type": "code",
   "execution_count": 56,
   "id": "72511424",
   "metadata": {},
   "outputs": [],
   "source": [
    "df_num = df_num.reset_index()"
   ]
  },
  {
   "cell_type": "code",
   "execution_count": 57,
   "id": "84dbdb31",
   "metadata": {},
   "outputs": [],
   "source": [
    "df_num.plot(kind = 'box')\n",
    "plt.show()"
   ]
  },
  {
   "cell_type": "code",
   "execution_count": 58,
   "id": "b6769b21",
   "metadata": {},
   "outputs": [],
   "source": [
    "# concate the treated data frame with categorical dataframe\n",
    "df_cat = df_house_price_data.select_dtypes('object')\n"
   ]
  },
  {
   "cell_type": "code",
   "execution_count": 59,
   "id": "cbff9f19",
   "metadata": {},
   "outputs": [],
   "source": [
    "df_cat = df_cat.reset_index()"
   ]
  },
  {
   "cell_type": "code",
   "execution_count": 60,
   "id": "b8f69371",
   "metadata": {},
   "outputs": [],
   "source": [
    "print(df_num.shape)\n",
    "print(df_cat.shape)"
   ]
  },
  {
   "cell_type": "code",
   "execution_count": 61,
   "id": "c3014011",
   "metadata": {},
   "outputs": [],
   "source": [
    "# concade both \n",
    "df_house_price_data = pd.concat((df_num,df_cat) , axis = 1)\n",
    "df_house_price_data.shape"
   ]
  },
  {
   "cell_type": "code",
   "execution_count": 62,
   "id": "c50b9894",
   "metadata": {},
   "outputs": [],
   "source": [
    "# checking null values\n",
    "df_house_price_data.isnull().sum()"
   ]
  },
  {
   "cell_type": "code",
   "execution_count": 63,
   "id": "02d11f48",
   "metadata": {},
   "outputs": [],
   "source": [
    "df_house_price_data.dropna(inplace = True)"
   ]
  },
  {
   "cell_type": "code",
   "execution_count": 64,
   "id": "799c8b64",
   "metadata": {},
   "outputs": [],
   "source": [
    "# checking null values\n",
    "df_house_price_data.isnull().sum()"
   ]
  },
  {
   "cell_type": "markdown",
   "id": "baec3cbd",
   "metadata": {},
   "source": [
    "# 3EDA "
   ]
  },
  {
   "cell_type": "code",
   "execution_count": 65,
   "id": "89cc7d7c",
   "metadata": {},
   "outputs": [],
   "source": [
    "# univariate analysis\n",
    "# bivariate analysis \n",
    "# multivariate analysis\n"
   ]
  },
  {
   "cell_type": "markdown",
   "id": "604f9aae",
   "metadata": {},
   "source": [
    "### Univariate Analysis\n"
   ]
  },
  {
   "cell_type": "code",
   "execution_count": 66,
   "id": "d27580a7",
   "metadata": {},
   "outputs": [],
   "source": [
    "# lets segrigate numerical columns and the catagorical columns \n",
    "df_num = df_house_price_data.select_dtypes(include = np.number)"
   ]
  },
  {
   "cell_type": "code",
   "execution_count": 67,
   "id": "e50825da",
   "metadata": {},
   "outputs": [],
   "source": [
    "df_num.head()"
   ]
  },
  {
   "cell_type": "code",
   "execution_count": 68,
   "id": "e1de27a2",
   "metadata": {},
   "outputs": [],
   "source": [
    "# catogorical data frame\n",
    "df_cat = df_house_price_data.select_dtypes(include = ['object'] )"
   ]
  },
  {
   "cell_type": "code",
   "execution_count": 69,
   "id": "94642a8f",
   "metadata": {},
   "outputs": [],
   "source": [
    "df_cat.head()"
   ]
  },
  {
   "cell_type": "markdown",
   "id": "499a6206",
   "metadata": {},
   "source": [
    "#### Room_Number"
   ]
  },
  {
   "cell_type": "code",
   "execution_count": 70,
   "id": "762f373d",
   "metadata": {},
   "outputs": [],
   "source": [
    "#Find the count of each categary present in that column\n",
    "df_cat.Room_No.value_counts()"
   ]
  },
  {
   "cell_type": "code",
   "execution_count": 71,
   "id": "caa207ec",
   "metadata": {},
   "outputs": [],
   "source": [
    "# visualise the count \n",
    "df_cat.Room_No.value_counts().plot(kind = 'bar')\n",
    "plt.show()"
   ]
  },
  {
   "cell_type": "markdown",
   "id": "0bc15d3d",
   "metadata": {},
   "source": [
    "**Interpretation**\n",
    " - We have imbalance data in room number column \n",
    " - 6 is a category who is dominationg the most, Its count is 266\n",
    " - 3 is a cateory who has least number of observation ,Its count is 2"
   ]
  },
  {
   "cell_type": "markdown",
   "id": "b36e2dad",
   "metadata": {},
   "source": [
    "#### Airports "
   ]
  },
  {
   "cell_type": "code",
   "execution_count": 72,
   "id": "cab0079e",
   "metadata": {},
   "outputs": [],
   "source": [
    "# find the value count for airport column\n",
    "df_cat.Airports.value_counts()"
   ]
  },
  {
   "cell_type": "code",
   "execution_count": 73,
   "id": "72613f75",
   "metadata": {},
   "outputs": [],
   "source": [
    "# plot the value count\n",
    "df_cat.Airports.value_counts().plot(kind = 'bar' , color = 'black' )\n",
    "plt.show()"
   ]
  },
  {
   "cell_type": "markdown",
   "id": "8f1f448c",
   "metadata": {},
   "source": [
    "***Interpretation***\n",
    " - we have balanced data in this airport columns \n",
    " - in the data there is 273 places where airport is present and there are 225 places where it is not present\n",
    " "
   ]
  },
  {
   "cell_type": "code",
   "execution_count": 74,
   "id": "dc947a2c",
   "metadata": {},
   "outputs": [],
   "source": [
    "df_cat.head(2)"
   ]
  },
  {
   "cell_type": "markdown",
   "id": "117e9b18",
   "metadata": {},
   "source": [
    "# waterbody"
   ]
  },
  {
   "cell_type": "code",
   "execution_count": 75,
   "id": "594e62c0",
   "metadata": {},
   "outputs": [],
   "source": [
    "# find the value count for waterbody column\n",
    "df_cat.waterbody.value_counts()"
   ]
  },
  {
   "cell_type": "code",
   "execution_count": 76,
   "id": "5a6dde4a",
   "metadata": {},
   "outputs": [],
   "source": [
    "# visualise the count\n",
    "\n",
    "df_cat.waterbody.value_counts().plot(kind = 'bar', color = 'black')\n",
    "plt.title('Count of waterbody')\n",
    "plt.ylabel('count')\n",
    "plt.xlabel('Waterbodies')\n",
    "plt.xticks(rotation = 45)\n",
    "plt.grid()\n",
    "plt.show()"
   ]
  },
  {
   "cell_type": "markdown",
   "id": "c11cd4d9",
   "metadata": {},
   "source": [
    "***Interpretation***\n",
    " - Most of the places having river as waterbody 178 where \n",
    " - There is few places where lake and river are the waterbody  \n",
    " - this data is also imbalanced "
   ]
  },
  {
   "cell_type": "code",
   "execution_count": 77,
   "id": "a0da4422",
   "metadata": {},
   "outputs": [],
   "source": [
    "df_cat.head()"
   ]
  },
  {
   "cell_type": "markdown",
   "id": "e4dbd67d",
   "metadata": {},
   "source": [
    "# Bus terminal"
   ]
  },
  {
   "cell_type": "code",
   "execution_count": 78,
   "id": "cc0fea79",
   "metadata": {},
   "outputs": [],
   "source": [
    "# find the value count for waterbody column\n",
    "df_cat.Bus_Ter.value_counts()"
   ]
  },
  {
   "cell_type": "code",
   "execution_count": 79,
   "id": "e147db83",
   "metadata": {},
   "outputs": [],
   "source": [
    "# visualise the count\n",
    "\n",
    "df_cat.Bus_Ter.value_counts().plot(kind = 'bar', color = 'black')\n",
    "plt.title(\"bus terminal\")\n",
    "\n",
    "plt.show()"
   ]
  },
  {
   "cell_type": "markdown",
   "id": "a4c57a61",
   "metadata": {},
   "source": [
    "***Interpretation***\n",
    " - All the places we have contained the bus terminal \n",
    " - ACTION: remove that column from the data "
   ]
  },
  {
   "cell_type": "code",
   "execution_count": 80,
   "id": "9abf7c98",
   "metadata": {},
   "outputs": [],
   "source": [
    "# Drop the column \n",
    "df_house_price_data.drop('Teachers' , axis = 1 , inplace = True )\n"
   ]
  },
  {
   "cell_type": "code",
   "execution_count": 81,
   "id": "9be5b272",
   "metadata": {},
   "outputs": [],
   "source": [
    "df_house_price_data.shape"
   ]
  },
  {
   "cell_type": "code",
   "execution_count": 82,
   "id": "389b4c0f",
   "metadata": {},
   "outputs": [],
   "source": [
    "df_house_price_data.shape[1]"
   ]
  },
  {
   "cell_type": "code",
   "execution_count": 83,
   "id": "734a6fcc",
   "metadata": {},
   "outputs": [],
   "source": [
    "df_house_price_data.head()"
   ]
  },
  {
   "cell_type": "code",
   "execution_count": 84,
   "id": "303352e0",
   "metadata": {},
   "outputs": [],
   "source": [
    "\n",
    "\n",
    "df_house_price_data.head()"
   ]
  },
  {
   "cell_type": "markdown",
   "id": "bba29c58",
   "metadata": {},
   "source": [
    "## univariate on numerical data \n"
   ]
  },
  {
   "cell_type": "code",
   "execution_count": 85,
   "id": "ad2e0a2f",
   "metadata": {},
   "outputs": [],
   "source": [
    "df_num.head()"
   ]
  },
  {
   "cell_type": "markdown",
   "id": "c6d937cc",
   "metadata": {},
   "source": [
    "#### Price "
   ]
  },
  {
   "cell_type": "code",
   "execution_count": 86,
   "id": "f2690f5d",
   "metadata": {},
   "outputs": [],
   "source": [
    "df_num.Price.plot(kind = 'kde', color = 'black')\n",
    "plt.title('KDE plot on price')\n",
    "plt.grid()\n",
    "plt.show()"
   ]
  },
  {
   "cell_type": "code",
   "execution_count": 87,
   "id": "5ecf4565",
   "metadata": {},
   "outputs": [],
   "source": [
    "# Find the minimum value \n",
    "df_num.Price.min()"
   ]
  },
  {
   "cell_type": "code",
   "execution_count": 88,
   "id": "dca18e28",
   "metadata": {},
   "outputs": [],
   "source": [
    "df_num.Price.max()"
   ]
  },
  {
   "cell_type": "code",
   "execution_count": 89,
   "id": "fcde07fa",
   "metadata": {},
   "outputs": [],
   "source": [
    "#Find the avg value\n",
    "df_num.Price.mean()"
   ]
  },
  {
   "cell_type": "markdown",
   "id": "b9f08700",
   "metadata": {},
   "source": [
    "***Interpretation***\n",
    " - This data is slightly normally distributed \n",
    " - The houses we have there prices lie between 8 lacs to 40 lacs\n",
    " - The house we have with least price is 5 lacs\n",
    " - The house with max price is 50 lacs\n",
    " - Avg price of houses is 22 lacs 75 thousand"
   ]
  },
  {
   "cell_type": "code",
   "execution_count": 90,
   "id": "266e1e02",
   "metadata": {},
   "outputs": [],
   "source": [
    "df_num.head()"
   ]
  },
  {
   "cell_type": "markdown",
   "id": "3e29a558",
   "metadata": {},
   "source": [
    "### Crime Rate "
   ]
  },
  {
   "cell_type": "code",
   "execution_count": 91,
   "id": "27d14e51",
   "metadata": {},
   "outputs": [],
   "source": [
    "# Find the minimum value \n",
    "df_num.Crime_Rate.min()"
   ]
  },
  {
   "cell_type": "code",
   "execution_count": 92,
   "id": "4fadadc0",
   "metadata": {},
   "outputs": [],
   "source": [
    "df_num.Crime_Rate.max()"
   ]
  },
  {
   "cell_type": "code",
   "execution_count": 93,
   "id": "74b71ec6",
   "metadata": {},
   "outputs": [],
   "source": [
    "#Find the avg value\n",
    "df_num.Crime_Rate.mean()"
   ]
  },
  {
   "cell_type": "code",
   "execution_count": 94,
   "id": "9dd475be",
   "metadata": {},
   "outputs": [],
   "source": [
    "df_num.Crime_Rate.plot(kind = 'kde', color = 'black')\n",
    "plt.title('KDE plot on Crime_rate')\n",
    "plt.grid()\n",
    "plt.show()"
   ]
  },
  {
   "cell_type": "markdown",
   "id": "aaa92378",
   "metadata": {},
   "source": [
    "***Interpretation***\n",
    " - The min Crime rate is 5\n",
    " - The max Crime rate is 88.97\n",
    " - The avg Crime rate is 3.588967791164659\n",
    " - The houses we have there prices lie between 5 to 9\n",
    " "
   ]
  },
  {
   "cell_type": "markdown",
   "id": "8e63b9d0",
   "metadata": {},
   "source": [
    "### Resid Area "
   ]
  },
  {
   "cell_type": "code",
   "execution_count": 95,
   "id": "9165c519",
   "metadata": {},
   "outputs": [],
   "source": [
    "# Find the minimum value \n",
    "df_num.Resid_Area.min()"
   ]
  },
  {
   "cell_type": "code",
   "execution_count": 96,
   "id": "2805f494",
   "metadata": {},
   "outputs": [],
   "source": [
    "df_num.Resid_Area.max()"
   ]
  },
  {
   "cell_type": "code",
   "execution_count": 97,
   "id": "0a8677a5",
   "metadata": {},
   "outputs": [],
   "source": [
    "#Find the avg value\n",
    "df_num.Resid_Area.mean()"
   ]
  },
  {
   "cell_type": "code",
   "execution_count": 98,
   "id": "2e48d94f",
   "metadata": {},
   "outputs": [],
   "source": [
    "df_num.Resid_Area.plot(kind = 'kde', color = 'black')\n",
    "plt.title('KDE plot on Residential area')\n",
    "plt.grid()\n",
    "plt.show()"
   ]
  },
  {
   "cell_type": "markdown",
   "id": "ce9bb3d5",
   "metadata": {},
   "source": [
    "***Interpretation***\n",
    " - The min Resid_Area is 30.67\n",
    " - The max Resid_Area is 57.74\n",
    " - The avg Resid_Area is 41.12652610441768\n",
    " - The houses we have there prices lie between 30 to 57\n",
    " - It is a multi graph \n",
    " "
   ]
  },
  {
   "cell_type": "code",
   "execution_count": 99,
   "id": "76ca84dd",
   "metadata": {},
   "outputs": [],
   "source": [
    "df_num.head()"
   ]
  },
  {
   "cell_type": "markdown",
   "id": "950ab2f9",
   "metadata": {},
   "source": [
    "### Air Quality"
   ]
  },
  {
   "cell_type": "code",
   "execution_count": 100,
   "id": "32e93d44",
   "metadata": {},
   "outputs": [],
   "source": [
    "# Find the minimum value \n",
    "df_num.Air_Quality.min()"
   ]
  },
  {
   "cell_type": "code",
   "execution_count": 101,
   "id": "ea6df238",
   "metadata": {},
   "outputs": [],
   "source": [
    "df_num.Air_Quality.max()"
   ]
  },
  {
   "cell_type": "code",
   "execution_count": 102,
   "id": "f7f63195",
   "metadata": {},
   "outputs": [],
   "source": [
    "df_num.Air_Quality.mean()"
   ]
  },
  {
   "cell_type": "code",
   "execution_count": 103,
   "id": "79009f3a",
   "metadata": {},
   "outputs": [],
   "source": [
    "df_num.Air_Quality.plot(kind = 'kde', color = 'black')\n",
    "plt.title('KDE plot on Air Quality')\n",
    "plt.grid()\n",
    "plt.show()"
   ]
  },
  {
   "cell_type": "markdown",
   "id": "b31e3fa0",
   "metadata": {},
   "source": [
    "***Interpretation***\n",
    " - The min Resid_Area is 0.385\n",
    " - The max Resid_Area is 0.871\n",
    " - The avg Resid_Area is 0.5538688755020079\n",
    " - The houses we have there prices lie between 0.3 to 0.8 and means value is 0.6"
   ]
  },
  {
   "cell_type": "markdown",
   "id": "f0837557",
   "metadata": {},
   "source": [
    "### Age"
   ]
  },
  {
   "cell_type": "code",
   "execution_count": 104,
   "id": "5cff8c32",
   "metadata": {},
   "outputs": [],
   "source": [
    "# Find the minimum value \n",
    "df_num.Age.min()"
   ]
  },
  {
   "cell_type": "code",
   "execution_count": 105,
   "id": "e0164a86",
   "metadata": {},
   "outputs": [],
   "source": [
    "df_num.Age.max()"
   ]
  },
  {
   "cell_type": "code",
   "execution_count": 106,
   "id": "01cd3a19",
   "metadata": {},
   "outputs": [],
   "source": [
    "df_num.Age.mean()"
   ]
  },
  {
   "cell_type": "code",
   "execution_count": 197,
   "id": "1428cb6a",
   "metadata": {},
   "outputs": [],
   "source": [
    "df_num.Age.plot(kind = 'kde', color = 'black')\n",
    "plt.title('KDE plot on Age')\n",
    "plt.grid()\n",
    "plt.show()"
   ]
  },
  {
   "cell_type": "markdown",
   "id": "67231415",
   "metadata": {},
   "source": [
    "***Interpretation***\n",
    " - The min Age is 2 years \n",
    " - The max Age is 100 years \n",
    " - The avg Age is 68 years\n",
    " - The Age we have there prices lie between 2 years to 100 Years and the avg value is 68 years"
   ]
  },
  {
   "cell_type": "code",
   "execution_count": 108,
   "id": "ca4b75b9",
   "metadata": {},
   "outputs": [],
   "source": [
    "df_num.head()"
   ]
  },
  {
   "cell_type": "markdown",
   "id": "e279b32d",
   "metadata": {},
   "source": [
    "### Dist1"
   ]
  },
  {
   "cell_type": "code",
   "execution_count": 109,
   "id": "06d4a176",
   "metadata": {},
   "outputs": [],
   "source": [
    "# Find the minimum value \n",
    "df_num.Dist1.min()"
   ]
  },
  {
   "cell_type": "code",
   "execution_count": 110,
   "id": "5544327b",
   "metadata": {},
   "outputs": [],
   "source": [
    "df_num.Dist1.max()"
   ]
  },
  {
   "cell_type": "code",
   "execution_count": 111,
   "id": "d2fc7559",
   "metadata": {},
   "outputs": [],
   "source": [
    "df_num.Dist1.mean()"
   ]
  },
  {
   "cell_type": "code",
   "execution_count": 112,
   "id": "09bd5fbf",
   "metadata": {},
   "outputs": [],
   "source": [
    "df_num.Dist1.plot(kind = 'kde', color = 'black')\n",
    "plt.title('KDE plot on Dist1')\n",
    "plt.grid()\n",
    "plt.show()"
   ]
  },
  {
   "cell_type": "markdown",
   "id": "805260dc",
   "metadata": {},
   "source": [
    "***Interpretation***\n",
    " - The min Dist1 is 1.13\n",
    " - The max Dist1 is 12.32\n",
    " - The avg Dist1 is 3.9852208835341365\n",
    " - The Dist1 we have there lie between 2 to 8 and the avg value is 4 "
   ]
  },
  {
   "cell_type": "markdown",
   "id": "c91481e9",
   "metadata": {},
   "source": [
    "### Dist2"
   ]
  },
  {
   "cell_type": "code",
   "execution_count": 113,
   "id": "55d017fa",
   "metadata": {},
   "outputs": [],
   "source": [
    "# Find the minimum value \n",
    "df_num.Dist2.min()"
   ]
  },
  {
   "cell_type": "code",
   "execution_count": 114,
   "id": "d97a430a",
   "metadata": {},
   "outputs": [],
   "source": [
    "df_num.Dist2.max()"
   ]
  },
  {
   "cell_type": "code",
   "execution_count": 115,
   "id": "1a6f896a",
   "metadata": {},
   "outputs": [],
   "source": [
    "df_num.Dist2.mean()"
   ]
  },
  {
   "cell_type": "code",
   "execution_count": 116,
   "id": "2264ff58",
   "metadata": {},
   "outputs": [],
   "source": [
    "df_num.Dist2.plot(kind = 'kde', color = 'black')\n",
    "plt.title('KDE plot on Dist2')\n",
    "plt.grid()\n",
    "plt.show()"
   ]
  },
  {
   "cell_type": "markdown",
   "id": "d44f8753",
   "metadata": {},
   "source": [
    "***Interpretation***\n",
    " - The min Dist2 is 0.92\n",
    " - The max Dist2 is 11.93\n",
    " - The avg Dist2 is 3.641987951807229\n",
    " - The Dist2 we have there lie between 2 to 8 and the avg value is 4 \n"
   ]
  },
  {
   "cell_type": "markdown",
   "id": "4620e25f",
   "metadata": {},
   "source": [
    "### Dist 3"
   ]
  },
  {
   "cell_type": "code",
   "execution_count": 117,
   "id": "f1ac3cce",
   "metadata": {},
   "outputs": [],
   "source": [
    "# Find the minimum value \n",
    "df_num.Dist3.min()"
   ]
  },
  {
   "cell_type": "code",
   "execution_count": 118,
   "id": "6bba78b9",
   "metadata": {},
   "outputs": [],
   "source": [
    "df_num.Dist3.max()"
   ]
  },
  {
   "cell_type": "code",
   "execution_count": 119,
   "id": "a3966642",
   "metadata": {},
   "outputs": [],
   "source": [
    "df_num.Dist3.mean()"
   ]
  },
  {
   "cell_type": "code",
   "execution_count": 120,
   "id": "7b5f3c84",
   "metadata": {},
   "outputs": [],
   "source": [
    "df_num.Dist3.plot(kind = 'kde', color = 'black')\n",
    "plt.title('KDE plot on Dist3')\n",
    "plt.grid()\n",
    "plt.show()"
   ]
  },
  {
   "cell_type": "markdown",
   "id": "d7b306a3",
   "metadata": {},
   "source": [
    "***Interpretation***\n",
    " - The min value Dist3 is 1.15\n",
    " - The max value Dist3  is 12.32\n",
    " - The avg value Dist3 is 3.98\n",
    " - The Dist3 we have there lie between 2 to 8.5 and the avg value is 4 \n"
   ]
  },
  {
   "cell_type": "code",
   "execution_count": 121,
   "id": "de5fa650",
   "metadata": {},
   "outputs": [],
   "source": [
    "df_num.head()"
   ]
  },
  {
   "cell_type": "markdown",
   "id": "2c2c1416",
   "metadata": {},
   "source": [
    "\n",
    "### Teachers"
   ]
  },
  {
   "cell_type": "code",
   "execution_count": 122,
   "id": "4119016b",
   "metadata": {},
   "outputs": [],
   "source": [
    "# Find the minimum value \n",
    "df_num.Teachers.min()"
   ]
  },
  {
   "cell_type": "code",
   "execution_count": 123,
   "id": "8ac0bf0e",
   "metadata": {},
   "outputs": [],
   "source": [
    "df_num.Teachers.max()"
   ]
  },
  {
   "cell_type": "code",
   "execution_count": 124,
   "id": "c01f8008",
   "metadata": {},
   "outputs": [],
   "source": [
    "df_num.Teachers.mean()"
   ]
  },
  {
   "cell_type": "code",
   "execution_count": 125,
   "id": "407a760d",
   "metadata": {},
   "outputs": [],
   "source": [
    "df_num.Teachers.plot(kind = 'kde', color = 'black')\n",
    "plt.title('KDE plot on Teachers')\n",
    "plt.grid()\n",
    "plt.show()"
   ]
  },
  {
   "cell_type": "markdown",
   "id": "e496ff5b",
   "metadata": {},
   "source": [
    "***Interpretation***\n",
    " - The min value Teachers is 18\n",
    " - The max value Teachers  is 27.82\n",
    " - The avg value Teachers is 21.58\n",
    " - The Teachers we have there lie between 18 to 27 and the avg value is 21.6\n"
   ]
  },
  {
   "cell_type": "markdown",
   "id": "5ead7e12",
   "metadata": {},
   "source": [
    "### Poor Prop"
   ]
  },
  {
   "cell_type": "code",
   "execution_count": 126,
   "id": "ce38e2b6",
   "metadata": {},
   "outputs": [],
   "source": [
    "# Find the minimum value \n",
    "df_num.Poor_Prop.min()"
   ]
  },
  {
   "cell_type": "code",
   "execution_count": 127,
   "id": "59b4d17d",
   "metadata": {},
   "outputs": [],
   "source": [
    "df_num.Poor_Prop.max()"
   ]
  },
  {
   "cell_type": "code",
   "execution_count": 128,
   "id": "3efd51b2",
   "metadata": {},
   "outputs": [],
   "source": [
    "df_num.Poor_Prop.mean()"
   ]
  },
  {
   "cell_type": "code",
   "execution_count": 129,
   "id": "d0a34b22",
   "metadata": {},
   "outputs": [],
   "source": [
    "df_num.Poor_Prop.plot(kind = 'kde', color = 'black')\n",
    "plt.title('KDE plot on  Poor Prop')\n",
    "plt.grid()\n",
    "plt.show()"
   ]
  },
  {
   "cell_type": "markdown",
   "id": "cb4177f0",
   "metadata": {},
   "source": [
    "***Interpretation***\n",
    " - The min value of Poor Prop is 1.73\n",
    " - The max value of Poor Prop  is 37.97\n",
    " - The avg value of Poor Prop is 12.59\n",
    " - The  Poor Prop we have there lie between 2 to 28 and the avg value is 12.6\n"
   ]
  },
  {
   "cell_type": "code",
   "execution_count": 130,
   "id": "9acb05b2",
   "metadata": {},
   "outputs": [],
   "source": [
    "df_num.head()"
   ]
  },
  {
   "cell_type": "markdown",
   "id": "7df2f502",
   "metadata": {},
   "source": [
    "### Number of hospital Beds"
   ]
  },
  {
   "cell_type": "code",
   "execution_count": 131,
   "id": "1ebc10ef",
   "metadata": {},
   "outputs": [],
   "source": [
    "# Find the minimum value \n",
    "df_num.N_Hos_Beds.min()"
   ]
  },
  {
   "cell_type": "code",
   "execution_count": 132,
   "id": "58c9b9b5",
   "metadata": {},
   "outputs": [],
   "source": [
    "df_num.N_Hos_Beds.max()"
   ]
  },
  {
   "cell_type": "code",
   "execution_count": 133,
   "id": "786f82cd",
   "metadata": {},
   "outputs": [],
   "source": [
    "df_num.N_Hos_Beds.mean()"
   ]
  },
  {
   "cell_type": "code",
   "execution_count": 134,
   "id": "ce4ffdf3",
   "metadata": {},
   "outputs": [],
   "source": [
    "df_num.N_Hos_Beds.plot(kind = 'kde', color = 'black')\n",
    "plt.title('KDE plot on Hospital Beds')\n",
    "plt.grid()\n",
    "plt.show()"
   ]
  },
  {
   "cell_type": "markdown",
   "id": "7dfdb6be",
   "metadata": {},
   "source": [
    "***Interpretation***\n",
    " - The min value of Hospital bed is 5.268\n",
    " - The max value of Hospital bed is 10.876\n",
    " - The avg value of Hospital bed is 7.899767068273092\n",
    " - The Hospital bed we have there lie between 5 to 11.5 and the avg value is 7.9\n"
   ]
  },
  {
   "cell_type": "code",
   "execution_count": 135,
   "id": "b4457787",
   "metadata": {},
   "outputs": [],
   "source": [
    "df_num.head()"
   ]
  },
  {
   "cell_type": "markdown",
   "id": "bd7981e3",
   "metadata": {},
   "source": [
    "### number of hotel rooms"
   ]
  },
  {
   "cell_type": "code",
   "execution_count": 136,
   "id": "afe1abb3",
   "metadata": {},
   "outputs": [],
   "source": [
    "# Find the minimum value \n",
    "df_num.n_hot_rooms.min()"
   ]
  },
  {
   "cell_type": "code",
   "execution_count": 137,
   "id": "14d83ec9",
   "metadata": {},
   "outputs": [],
   "source": [
    "df_num.n_hot_rooms.max()"
   ]
  },
  {
   "cell_type": "code",
   "execution_count": 138,
   "id": "94d55518",
   "metadata": {},
   "outputs": [],
   "source": [
    "df_num.n_hot_rooms.mean()"
   ]
  },
  {
   "cell_type": "code",
   "execution_count": 139,
   "id": "ba4151e4",
   "metadata": {},
   "outputs": [],
   "source": [
    "df_num.n_hot_rooms.plot(kind = 'kde', color = 'black')\n",
    "plt.title('KDE plot on hotel rooms')\n",
    "plt.grid()\n",
    "plt.show()"
   ]
  },
  {
   "cell_type": "markdown",
   "id": "bb902ef9",
   "metadata": {},
   "source": [
    "***Interpretation***\n",
    " - The min value of Hotel rooms is 10\n",
    " - The max value of Hotel rooms is 101.12\n",
    " - The avg value of Hotel rooms is 13.048\n",
    " - The Hotel rooms we have there lie between 2 to 23 and the avg value is 13\n"
   ]
  },
  {
   "cell_type": "markdown",
   "id": "eebed380",
   "metadata": {},
   "source": [
    "### Rainfall"
   ]
  },
  {
   "cell_type": "code",
   "execution_count": 140,
   "id": "f46bdc3c",
   "metadata": {},
   "outputs": [],
   "source": [
    "# Find the minimum value \n",
    "df_num.Rainfall.min()"
   ]
  },
  {
   "cell_type": "code",
   "execution_count": 141,
   "id": "d4902e10",
   "metadata": {},
   "outputs": [],
   "source": [
    "df_num.Rainfall.max()"
   ]
  },
  {
   "cell_type": "code",
   "execution_count": 142,
   "id": "b81d3323",
   "metadata": {},
   "outputs": [],
   "source": [
    "df_num.Rainfall.mean()"
   ]
  },
  {
   "cell_type": "code",
   "execution_count": 143,
   "id": "0f5b9566",
   "metadata": {},
   "outputs": [],
   "source": [
    "df_num.Rainfall.plot(kind = 'kde', color = 'black')\n",
    "plt.title('KDE plot on hotel rooms')\n",
    "plt.grid()\n",
    "plt.show()"
   ]
  },
  {
   "cell_type": "markdown",
   "id": "f052cf62",
   "metadata": {},
   "source": [
    "***Interpretation***\n",
    " - The min value of Rainfall is 3\n",
    " - The max value of Rainfall is 60\n",
    " - The avg value of Rainfall is 39.3\n",
    " - The Rainfall we have there lie between 10 to 65 and the avg value is 39\n"
   ]
  },
  {
   "cell_type": "code",
   "execution_count": 144,
   "id": "9e451116",
   "metadata": {},
   "outputs": [],
   "source": [
    "df_num.head()"
   ]
  },
  {
   "cell_type": "markdown",
   "id": "d491b7f8",
   "metadata": {},
   "source": [
    "### Parks"
   ]
  },
  {
   "cell_type": "code",
   "execution_count": 145,
   "id": "053d0076",
   "metadata": {},
   "outputs": [],
   "source": [
    "# Find the minimum value \n",
    "df_num.Parks.min()"
   ]
  },
  {
   "cell_type": "code",
   "execution_count": 146,
   "id": "59733e12",
   "metadata": {},
   "outputs": [],
   "source": [
    "df_num.Parks.max()"
   ]
  },
  {
   "cell_type": "code",
   "execution_count": 147,
   "id": "37b4dede",
   "metadata": {},
   "outputs": [],
   "source": [
    "df_num.Parks.mean()"
   ]
  },
  {
   "cell_type": "code",
   "execution_count": 148,
   "id": "471c5895",
   "metadata": {},
   "outputs": [],
   "source": [
    "df_num.Parks.plot(kind = 'kde', color = 'black')\n",
    "plt.title('KDE plot on Parks')\n",
    "plt.grid()\n",
    "plt.show()"
   ]
  },
  {
   "cell_type": "markdown",
   "id": "361ede45",
   "metadata": {},
   "source": [
    "***Interpretation***\n",
    " - The min value of Parks is 0.03329\n",
    " - The max value of Parks is 0.087\n",
    " - The avg value of Parks is 0.05436170961044177\n",
    " - The Parks we have there lie between 0.03 to 0.09 and the avg value is 0.05\n",
    " - It is a normally distributed balanced graph\n"
   ]
  },
  {
   "cell_type": "markdown",
   "id": "e1a476df",
   "metadata": {},
   "source": []
  },
  {
   "cell_type": "code",
   "execution_count": 149,
   "id": "d946eab3",
   "metadata": {},
   "outputs": [],
   "source": [
    "df_house_price_data.head()"
   ]
  },
  {
   "cell_type": "markdown",
   "id": "fdad150f",
   "metadata": {},
   "source": [
    "## Bivariate Analysis\n"
   ]
  },
  {
   "cell_type": "code",
   "execution_count": 150,
   "id": "2175b182",
   "metadata": {},
   "outputs": [],
   "source": [
    "# step 1: Do the bivariate analysis for numerical variables\n",
    "# Find the corelation\n",
    "df_num.corr()"
   ]
  },
  {
   "cell_type": "code",
   "execution_count": 151,
   "id": "8b4d907d",
   "metadata": {},
   "outputs": [],
   "source": [
    "# Draw the heat map  for corelation \n",
    "sns.heatmap(df_num.corr(),annot = True )\n",
    "sns.set(rc = "
   ]
  },
  {
   "cell_type": "code",
   "execution_count": 152,
   "id": "19ab5e69",
   "metadata": {},
   "outputs": [],
   "source": [
    "ax = plt.subplots(figsize=(15, 5))"
   ]
  },
  {
   "cell_type": "code",
   "execution_count": 204,
   "id": "a9842742",
   "metadata": {},
   "outputs": [
    {
     "data": {
      "image/png": "[encoded data removed]",
      "text/plain": [
       "<Figure size 5000x500 with 2 Axes>"
      ]
     },
     "metadata": {},
     "output_type": "display_data"
    }
   ],
   "source": [
    "ax = sns.heatmap(df_num.corr(),annot = True )\n",
    "sns.set(rc ={'figure.figsize':(10,10)})"
   ]
  },
  {
   "cell_type": "code",
   "execution_count": 154,
   "id": "080aad9b",
   "metadata": {},
   "outputs": [],
   "source": [
    "#price-poor_prop\n",
    "# price-park\n",
    "#poorprop-dist1\n",
    "#dist1-parks\n",
    "#dist2-parks\n",
    "#dist3-parks\n",
    "#dist4-parks\n",
    "#dist1-poor_prop\n",
    "#dist2-poor_prop\n",
    "#dist3-poor_prop\n",
    "#dis4-poor_prop\n",
    "\n"
   ]
  },
  {
   "cell_type": "markdown",
   "id": "4252b97c",
   "metadata": {},
   "source": [
    "### price-parks"
   ]
  },
  {
   "cell_type": "code",
   "execution_count": 155,
   "id": "bca9199b",
   "metadata": {},
   "outputs": [],
   "source": [
    "sns.scatterplot(x='Parks',y=\"Price\",data=df_num)\n",
    "plt.xlabel(\"parks\")\n",
    "plt.ylabel(\"price\")\n",
    "plt.title(\"coreltion between parks and price\", fontsize=30)\n",
    "\n",
    "plt.show()"
   ]
  },
  {
   "cell_type": "markdown",
   "id": "0f8d0c77",
   "metadata": {},
   "source": [
    "***Interpretation***\n",
    " - this is a side negative corealtion\n",
    " - we can say that if the poor population is higher than the price is lesser\n"
   ]
  },
  {
   "cell_type": "markdown",
   "id": "d7fced95",
   "metadata": {},
   "source": [
    "### price-poor_prop"
   ]
  },
  {
   "cell_type": "code",
   "execution_count": 156,
   "id": "24885c60",
   "metadata": {},
   "outputs": [],
   "source": [
    "sns.scatterplot(x='Price',y=\"Poor_Prop\",data=df_num)\n",
    "plt.xlabel(\"Price\")\n",
    "plt.ylabel(\"Poor prop\")\n",
    "plt.title(\"coreltion between price and poor properties\", fontsize=30)\n",
    "\n",
    "plt.show()"
   ]
  },
  {
   "cell_type": "markdown",
   "id": "f81115ad",
   "metadata": {},
   "source": [
    "***Interpretation***\n",
    " - this is a side negative corealtion\n",
    " - we can say that if the poor population is higher than the price is lesser\n"
   ]
  },
  {
   "cell_type": "markdown",
   "id": "83f6d57d",
   "metadata": {},
   "source": [
    "### dist1-parks"
   ]
  },
  {
   "cell_type": "code",
   "execution_count": 157,
   "id": "72972952",
   "metadata": {},
   "outputs": [],
   "source": [
    "sns.scatterplot(x='Dist1',y=\"Parks\",data=df_num)\n",
    "plt.xlabel(\"Dist1\")\n",
    "plt.ylabel(\"Parks\")\n",
    "plt.title(\"coreltion between Distance 1 and Parks\", fontsize=30)\n",
    "\n",
    "plt.show()"
   ]
  },
  {
   "cell_type": "markdown",
   "id": "d10e01ce",
   "metadata": {},
   "source": [
    " ***Interpretation***\n",
    " - this is a side negative corealtion\n",
    " - we can say that if the park is higher than the dist1 is lesser\n"
   ]
  },
  {
   "cell_type": "markdown",
   "id": "5c048e53",
   "metadata": {},
   "source": [
    "### dist2-parks"
   ]
  },
  {
   "cell_type": "code",
   "execution_count": 158,
   "id": "6b80dce6",
   "metadata": {},
   "outputs": [],
   "source": [
    "sns.scatterplot(x='Dist2',y=\"Parks\",data=df_num)\n",
    "plt.xlabel(\"Dist2\")\n",
    "plt.ylabel(\"Parks\")\n",
    "plt.title(\"coreltion between Distance 2 and Parks\", fontsize=30)\n",
    "\n",
    "plt.show()"
   ]
  },
  {
   "cell_type": "markdown",
   "id": "5177ed09",
   "metadata": {},
   "source": [
    "***Interpretation***\n",
    " - this is a side negative corealtion\n",
    " - we can say that if the park is higher than the dist2 is lesser\n"
   ]
  },
  {
   "cell_type": "markdown",
   "id": "412c38ef",
   "metadata": {},
   "source": [
    "### dist3-parks"
   ]
  },
  {
   "cell_type": "code",
   "execution_count": 159,
   "id": "634d436c",
   "metadata": {},
   "outputs": [],
   "source": [
    "sns.scatterplot(x='Dist3',y=\"Parks\",data=df_num)\n",
    "plt.xlabel(\"Dist3\")\n",
    "plt.ylabel(\"Parks\")\n",
    "plt.title(\"coreltion between Distance 3 and Parks\", fontsize=30)\n",
    "\n",
    "plt.show()"
   ]
  },
  {
   "cell_type": "markdown",
   "id": "44742790",
   "metadata": {},
   "source": [
    "***Interpretation***\n",
    " - this is a side negative corealtion\n",
    " - we can say that if the park is higher than the dist3 is lesser\n"
   ]
  },
  {
   "cell_type": "markdown",
   "id": "60b979cd",
   "metadata": {},
   "source": [
    "### dist4-parks"
   ]
  },
  {
   "cell_type": "code",
   "execution_count": 160,
   "id": "4290dcde",
   "metadata": {},
   "outputs": [],
   "source": [
    "sns.scatterplot(x='Dist4',y=\"Parks\",data=df_num)\n",
    "plt.xlabel(\"Dist4\")\n",
    "plt.ylabel(\"Parks\")\n",
    "plt.title(\"coreltion between Distance 4 and Parks\", fontsize=30)\n",
    "\n",
    "plt.show()"
   ]
  },
  {
   "cell_type": "markdown",
   "id": "7e5b88f2",
   "metadata": {},
   "source": [
    "***Interpretation***\n",
    " - this is a side negative corealtion\n",
    " - we can say that if the park is higher than the dist4 is lesser\n"
   ]
  },
  {
   "cell_type": "markdown",
   "id": "f097dca7",
   "metadata": {},
   "source": [
    "### dist1-poor_prop"
   ]
  },
  {
   "cell_type": "code",
   "execution_count": 161,
   "id": "34ef5ecb",
   "metadata": {},
   "outputs": [],
   "source": [
    "sns.scatterplot(x='Dist1',y=\"Poor_Prop\",data=df_num)\n",
    "plt.xlabel(\"Dist1\")\n",
    "plt.ylabel(\"poor_prop\")\n",
    "plt.title(\"coreltion between Distance 1 and poor population\", fontsize=30)\n",
    "\n",
    "plt.show()"
   ]
  },
  {
   "cell_type": "markdown",
   "id": "267f5b6c",
   "metadata": {},
   "source": [
    "***Interpretation***\n",
    " - In the data there is heteroscedasticity is present"
   ]
  },
  {
   "cell_type": "code",
   "execution_count": 162,
   "id": "53c8cbb2",
   "metadata": {},
   "outputs": [],
   "source": [
    "### dist2-poor_prop\n"
   ]
  },
  {
   "cell_type": "code",
   "execution_count": 163,
   "id": "8c9f0ade",
   "metadata": {},
   "outputs": [],
   "source": [
    "sns.scatterplot(x='Dist2',y=\"Poor_Prop\",data=df_num)\n",
    "plt.xlabel(\"Dist2\")\n",
    "plt.ylabel(\"poor_prop\")\n",
    "plt.title(\"coreltion between Distance 2 and poor population\", fontsize=30)\n",
    "\n",
    "plt.show()"
   ]
  },
  {
   "cell_type": "markdown",
   "id": "bb4e49d1",
   "metadata": {},
   "source": [
    "***Interpretation***\n",
    " - In the data there is heteroscedasticity is present"
   ]
  },
  {
   "cell_type": "code",
   "execution_count": 164,
   "id": "c6f7c765",
   "metadata": {},
   "outputs": [],
   "source": [
    "### dist3-poor_prop\n"
   ]
  },
  {
   "cell_type": "code",
   "execution_count": 205,
   "id": "e0698b29",
   "metadata": {},
   "outputs": [
    {
     "data": {
      "image/png": "[encoded data removed]",
      "text/plain": [
       "<Figure size 1000x1000 with 1 Axes>"
      ]
     },
     "metadata": {},
     "output_type": "display_data"
    }
   ],
   "source": [
    "sns.scatterplot(x='Dist3',y=\"Poor_Prop\",data=df_num)\n",
    "plt.xlabel(\"Dist3\")\n",
    "plt.ylabel(\"poor_prop\")\n",
    "plt.title(\"coreltion between Distance 3 and poor population\", fontsize=30)\n",
    "\n",
    "plt.show()"
   ]
  },
  {
   "cell_type": "markdown",
   "id": "af0336ef",
   "metadata": {},
   "source": [
    "***Interpretation***\n",
    " - In the data there is heteroscedasticity is present"
   ]
  },
  {
   "cell_type": "code",
   "execution_count": 166,
   "id": "5dcb467c",
   "metadata": {},
   "outputs": [],
   "source": [
    "### dist4-poor_prop\n"
   ]
  },
  {
   "cell_type": "code",
   "execution_count": 167,
   "id": "fadf9193",
   "metadata": {},
   "outputs": [],
   "source": [
    "sns.scatterplot(x='Dist4',y=\"Poor_Prop\",data=df_num)\n",
    "plt.xlabel(\"Dist4\")\n",
    "plt.ylabel(\"poor_prop\")\n",
    "plt.title(\"coreltion between Distance 3 and poor population\", fontsize=30)\n",
    "\n",
    "plt.show()"
   ]
  },
  {
   "cell_type": "markdown",
   "id": "0f082e15",
   "metadata": {},
   "source": [
    "***Interpretation***\n",
    " - In the data there is heteroscedasticity is present"
   ]
  },
  {
   "cell_type": "code",
   "execution_count": 168,
   "id": "a03e23cb",
   "metadata": {},
   "outputs": [],
   "source": [
    "sns.pairplot(df_num)"
   ]
  },
  {
   "cell_type": "code",
   "execution_count": null,
   "id": "c822986b",
   "metadata": {},
   "outputs": [],
   "source": [
    "# parks\n",
    "# price \n",
    "# poor_population\n",
    "# air quality "
   ]
  },
  {
   "cell_type": "code",
   "execution_count": null,
   "id": "0d9773ed",
   "metadata": {},
   "outputs": [],
   "source": [
    "df_cat.head()"
   ]
  },
  {
   "cell_type": "code",
   "execution_count": null,
   "id": "df9aaaf1",
   "metadata": {},
   "outputs": [],
   "source": [
    "x= 'Room_No'\n",
    "y= 'Parks'\n",
    "height=1\n",
    "plt.bar(x,height=y,data=df_house_price_data)\n",
    "\n",
    "# plt.bar(x,y,data = df_house_price_data ,height,width)\n",
    "# plt.bar(x, y,data = df_house_price_data ,height,width=0.8,)\n"
   ]
  },
  {
   "cell_type": "code",
   "execution_count": 169,
   "id": "24966b0a",
   "metadata": {},
   "outputs": [],
   "source": [
    "sns.barplot(x='Room_No',y='Parks',data=df_house_price_data)\n",
    "plt.show()"
   ]
  },
  {
   "cell_type": "markdown",
   "id": "f42017e7",
   "metadata": {},
   "source": [
    "***InterpretatioN***\n",
    " - If avg number of parks is high then the number of room number is less\n",
    " - if avg number of parks is lesser than number of rooms is 7"
   ]
  },
  {
   "cell_type": "code",
   "execution_count": 170,
   "id": "bee5adf7",
   "metadata": {},
   "outputs": [],
   "source": [
    "sns.barplot(x='Room_No',y='Price',data=df_house_price_data)\n",
    "plt.show()"
   ]
  },
  {
   "cell_type": "markdown",
   "id": "a0dc2fb3",
   "metadata": {},
   "source": [
    "***InterpretatioN***\n",
    " - when the number of room is 7 then prices are high \n",
    " - when the number of rooms is 4 than the price is lowest"
   ]
  },
  {
   "cell_type": "code",
   "execution_count": 171,
   "id": "81da98af",
   "metadata": {},
   "outputs": [],
   "source": [
    "sns.barplot(x='Room_No',y='Poor_Prop',data=df_house_price_data)\n",
    "plt.show()"
   ]
  },
  {
   "cell_type": "markdown",
   "id": "6195cdab",
   "metadata": {},
   "source": [
    "***InterpretatioN***\n",
    " - when the number of poor population is high  then room numbers are low,the houses we have over there number of rooms is 4\n",
    " - if we have 8 number of rooms in a house than the proportion f poor population is low"
   ]
  },
  {
   "cell_type": "code",
   "execution_count": 172,
   "id": "37580c0d",
   "metadata": {},
   "outputs": [],
   "source": [
    "sns.barplot(x='Room_No',y='Air_Quality',data=df_house_price_data)\n",
    "plt.show()"
   ]
  },
  {
   "cell_type": "markdown",
   "id": "7b3cb753",
   "metadata": {},
   "source": [
    "***InterpretatioN***\n",
    " - when the Airquality is best in the area that time the avg room number is 4 in the house \n",
    " - when we have the bad air quality in the area than the avg room number is 7 "
   ]
  },
  {
   "cell_type": "code",
   "execution_count": 173,
   "id": "a505f4a8",
   "metadata": {},
   "outputs": [],
   "source": [
    "sns.barplot(x='Airports',y='Parks',data=df_house_price_data)\n",
    "plt.show()"
   ]
  },
  {
   "cell_type": "code",
   "execution_count": 174,
   "id": "01942c04",
   "metadata": {},
   "outputs": [],
   "source": [
    "***InterpretatioN***\n",
    " - Nothing special"
   ]
  },
  {
   "cell_type": "code",
   "execution_count": null,
   "id": "b687e634",
   "metadata": {},
   "outputs": [],
   "source": [
    "sns.barplot(x='Airports',y='Price',data=df_house_price_data)\n",
    "plt.show()"
   ]
  },
  {
   "cell_type": "markdown",
   "id": "c2350128",
   "metadata": {},
   "source": [
    "***InterpretatioN***\n",
    " - Nothing special"
   ]
  },
  {
   "cell_type": "code",
   "execution_count": null,
   "id": "068347a7",
   "metadata": {},
   "outputs": [],
   "source": [
    "sns.barplot(x='Airports',y='Poor_Prop',data=df_house_price_data)\n",
    "plt.show()"
   ]
  },
  {
   "cell_type": "markdown",
   "id": "bbb01260",
   "metadata": {},
   "source": [
    "***InterpretatioN***\n",
    " - Nothing special"
   ]
  },
  {
   "cell_type": "code",
   "execution_count": null,
   "id": "a42a01d9",
   "metadata": {},
   "outputs": [],
   "source": [
    "sns.barplot(x='Airports',y='Air_Quality',data=df_house_price_data)\n",
    "plt.show()"
   ]
  },
  {
   "cell_type": "markdown",
   "id": "413dc418",
   "metadata": {},
   "source": [
    "***InterpretatioN***\n",
    " - Nothing special"
   ]
  },
  {
   "cell_type": "code",
   "execution_count": null,
   "id": "4b921d39",
   "metadata": {},
   "outputs": [],
   "source": [
    "\n",
    "sns.barplot(x='waterbody',y='Parks',data=df_house_price_data)\n",
    "plt.show()"
   ]
  },
  {
   "cell_type": "markdown",
   "id": "4bdcf1bc",
   "metadata": {},
   "source": [
    "\n",
    " ***InterpretatioN***\n",
    " - Nothing special"
   ]
  },
  {
   "cell_type": "code",
   "execution_count": null,
   "id": "4d003ff0",
   "metadata": {},
   "outputs": [],
   "source": [
    "\n",
    "sns.barplot(x='waterbody',y='Price',data=df_house_price_data)\n",
    "plt.show()"
   ]
  },
  {
   "cell_type": "markdown",
   "id": "cc78fadc",
   "metadata": {},
   "source": [
    "***InterpretatioN***\n",
    " - Nothing special"
   ]
  },
  {
   "cell_type": "code",
   "execution_count": null,
   "id": "12247c6b",
   "metadata": {},
   "outputs": [],
   "source": [
    "\n",
    "sns.barplot(x='waterbody',y='Poor_Prop',data=df_house_price_data)\n",
    "plt.show()"
   ]
  },
  {
   "cell_type": "markdown",
   "id": "c43bc687",
   "metadata": {},
   "source": [
    "***InterpretatioN***\n",
    " - Nothing special"
   ]
  },
  {
   "cell_type": "code",
   "execution_count": null,
   "id": "ea65987a",
   "metadata": {},
   "outputs": [],
   "source": [
    "\n",
    "sns.barplot(x='waterbody',y='Air_Quality',data=df_house_price_data)\n",
    "plt.show()"
   ]
  },
  {
   "cell_type": "markdown",
   "id": "1c1d62ce",
   "metadata": {},
   "source": [
    "***InterpretatioN***\n",
    " - Nothing special"
   ]
  },
  {
   "cell_type": "markdown",
   "id": "77d8fb73",
   "metadata": {},
   "source": [
    "### Multivariate Analysis"
   ]
  },
  {
   "cell_type": "code",
   "execution_count": null,
   "id": "7acf9f19",
   "metadata": {},
   "outputs": [],
   "source": [
    "# add hue\n",
    "# cross tab :Cross tabulation is used to compare categorical variables. It allows researchers to summarize large sets of data quickly and efficiently. It also makes it easier to understand trends in data.\n",
    "# Pivot table\n"
   ]
  },
  {
   "cell_type": "code",
   "execution_count": null,
   "id": "0fe64a58",
   "metadata": {},
   "outputs": [],
   "source": [
    "# pairs\n",
    "# col1 : price , col2 : parks , col3: Room number\n",
    "# col1 : price , col2 : air quality , col3: Room number\n",
    "# col1 : price , col2 : poor prop , col3: Room number\n",
    "\n",
    "# col1 : price , col2 : parks , col3: airport\n",
    "# col1 : price , col2 : air quality , col3: airport\n",
    "# col1 : price , col2 : poor prop, col3: airport\n",
    "\n",
    "# col1 : price , col2 : parks , col3: water body\n",
    "# col1 : price , col2 : air quality , col3: water body\n",
    "# col1 : price , col2 : poor prop, col3: water body\n",
    "\n",
    "# note : my col 3 should be hue parameter\n",
    "\n",
    "\n"
   ]
  },
  {
   "cell_type": "code",
   "execution_count": 175,
   "id": "cd07761a",
   "metadata": {},
   "outputs": [],
   "source": [
    "df_house_price_data.columns"
   ]
  },
  {
   "cell_type": "markdown",
   "id": "49f2c83b",
   "metadata": {},
   "source": [
    "#### col1 : price , col2 : parks , col3: Room number\n"
   ]
  },
  {
   "cell_type": "code",
   "execution_count": 176,
   "id": "8b3c2bbf",
   "metadata": {},
   "outputs": [],
   "source": [
    "sns.scatterplot( x='Price',y='Air_Quality',hue='Room_No',data=df_house_price_data)\n",
    "sns.set(rc ={'figure.figsize':(10,10)})\n",
    "plt.show()"
   ]
  },
  {
   "cell_type": "markdown",
   "id": "c2313ef5",
   "metadata": {},
   "source": [
    "***Interpretation***\n",
    " - when no. of parks is high (0.08) that time the price is low(15 lacs) the avg no. of rooms in that scenerio is 3\n",
    " \n",
    " - parks - when the number of parks is low (0.04) that time the price of the house is high (36 lacs) in that scenerio we have avg number of rooms is 8"
   ]
  },
  {
   "cell_type": "markdown",
   "id": "d104f967",
   "metadata": {},
   "source": [
    "#### col1 : price , col2 : air quality , col3: Room number\n"
   ]
  },
  {
   "cell_type": "code",
   "execution_count": 177,
   "id": "084fdc12",
   "metadata": {},
   "outputs": [],
   "source": [
    "sns.scatterplot( x='Price',y='Air_Quality',hue='Room_No',data=df_house_price_data)\n",
    "plt.show()"
   ]
  },
  {
   "cell_type": "markdown",
   "id": "3b74b724",
   "metadata": {},
   "source": [
    "***Interpretation***\n",
    " - when no. of price is low (13 lacs) that time the Air quality is really good (0.9) the avg no. of rooms in that scenerio is 4\n",
    " - when no. of price is High (36 lacs) that time the Air quality is really bad(0.45) the avg no. of rooms in that scenerio is 8\n"
   ]
  },
  {
   "cell_type": "markdown",
   "id": "9626e7e3",
   "metadata": {},
   "source": [
    "### col1 : price , col2 : poor prop , col3: Room number\n"
   ]
  },
  {
   "cell_type": "code",
   "execution_count": 178,
   "id": "2d18f987",
   "metadata": {},
   "outputs": [],
   "source": [
    "sns.scatterplot( x='Price',y='Poor_Prop',hue='Room_No',data=df_house_price_data)\n",
    "plt.show()"
   ]
  },
  {
   "cell_type": "markdown",
   "id": "59401424",
   "metadata": {},
   "source": [
    "***Interpretation***\n",
    " - when no. of price is loW (7 lacs) that time the Poor Population is 30 the avg no. of rooms in that scenerio is 4\n",
    " - when no. of price is High (36 lacs) that time the Poor Population is 4 and the avg no. of rooms in that scenerio is 8\n"
   ]
  },
  {
   "cell_type": "markdown",
   "id": "18514c43",
   "metadata": {},
   "source": [
    "### col1 : price , col2 : parks , col3: airport\n"
   ]
  },
  {
   "cell_type": "code",
   "execution_count": 179,
   "id": "e96b6ffe",
   "metadata": {},
   "outputs": [],
   "source": [
    "sns.scatterplot( x='Price',y='Parks',hue='Airports',data=df_house_price_data)\n",
    "plt.show()"
   ]
  },
  {
   "cell_type": "code",
   "execution_count": 180,
   "id": "79b70ccf",
   "metadata": {},
   "outputs": [],
   "source": [
    "***Interpretation***\n",
    " - when no. of price is loW (12 lacs) that time the parks  is  that time airport is present\n",
    " - when no. of price is High (37 lacs) that time the parks is 0.04 and thet time airport is present\n"
   ]
  },
  {
   "cell_type": "markdown",
   "id": "7139f842",
   "metadata": {},
   "source": [
    "### col1 : price , col2 : air quality , col3: airport\n"
   ]
  },
  {
   "cell_type": "code",
   "execution_count": 181,
   "id": "aabfb811",
   "metadata": {},
   "outputs": [],
   "source": [
    "sns.scatterplot( x='Price',y='Air_Quality',hue='Airports',data=df_house_price_data)\n",
    "plt.show()"
   ]
  },
  {
   "cell_type": "markdown",
   "id": "606ac5ea",
   "metadata": {},
   "source": [
    "***Interpretation***\n",
    " - when no. of price is loW (12 lacs) that time the air qualuty is high(0.9) and that time airport is present\n",
    " - when no. of price is High (37 lacs) that time the air quality is low (0.45) and thet time airport is present\n"
   ]
  },
  {
   "cell_type": "markdown",
   "id": "57490ef3",
   "metadata": {},
   "source": [
    "### col1 : price , col2 : poor prop, col3: airport\n"
   ]
  },
  {
   "cell_type": "code",
   "execution_count": 182,
   "id": "58079a7b",
   "metadata": {},
   "outputs": [],
   "source": [
    "sns.scatterplot( x='Price',y='Poor_Prop',hue='Airports',data=df_house_price_data)\n",
    "plt.show()"
   ]
  },
  {
   "cell_type": "markdown",
   "id": "a8f9fd90",
   "metadata": {},
   "source": [
    "***Interpretation***\n",
    " - when no. of price is loW (8 lacs) that time the poor popultion is high(28) and that time airport is present\n",
    " - when no. of price is High (37 lacs) that time the poor population  is low (3) and thet time airport is present\n"
   ]
  },
  {
   "cell_type": "markdown",
   "id": "73f8ad00",
   "metadata": {},
   "source": [
    "### col1 : price , col2 : parks , col3: water body\n"
   ]
  },
  {
   "cell_type": "code",
   "execution_count": 183,
   "id": "4b64a7bd",
   "metadata": {},
   "outputs": [],
   "source": [
    "sns.scatterplot( x='Price',y='Parks',hue='waterbody',data=df_house_price_data)\n",
    "plt.show()"
   ]
  },
  {
   "cell_type": "code",
   "execution_count": 184,
   "id": "93e5b2d8",
   "metadata": {},
   "outputs": [],
   "source": [
    "***Interpretation***\n",
    " - when no. of price is loW (12 lacs)  that time the parks is high (0.08) and thet time river is present\n",
    " - when no. of price is High (37 lacs) that time the parks is low (0.055) and thet time river is present\n"
   ]
  },
  {
   "cell_type": "markdown",
   "id": "75844ef0",
   "metadata": {},
   "source": [
    "### col1 : price , col2 : air quality , col3: water body\n",
    "\n"
   ]
  },
  {
   "cell_type": "code",
   "execution_count": 185,
   "id": "aeacac79",
   "metadata": {},
   "outputs": [],
   "source": [
    "sns.scatterplot( x='Price',y='Air_Quality',hue='waterbody',data=df_house_price_data)\n",
    "plt.show()"
   ]
  },
  {
   "cell_type": "markdown",
   "id": "2ed329d0",
   "metadata": {},
   "source": [
    "***Interpretation***\n",
    " - when no. of price is loW ( lacs)  that time the parks is high (0.89) and thet time lake is present\n",
    " - when no. of price is High (37 lacs) that time the aiir is low (0.45) and thet time river is present\n"
   ]
  },
  {
   "cell_type": "markdown",
   "id": "16554575",
   "metadata": {},
   "source": [
    "### col1 : price , col2 : poor prop, col3: water body"
   ]
  },
  {
   "cell_type": "code",
   "execution_count": 186,
   "id": "69219e13",
   "metadata": {},
   "outputs": [],
   "source": [
    "sns.scatterplot( x='Price',y='Poor_Prop',hue='waterbody',data=df_house_price_data)\n",
    "sns.set(rc ={'figure.figsize':(50,5)})\n",
    "plt.show()"
   ]
  },
  {
   "cell_type": "markdown",
   "id": "0ec0574e",
   "metadata": {},
   "source": [
    "***Interpretation***\n",
    " - when no. of price is loW (6 lacs)  that time the parks is high (29) and thet time both lake and river is present\n",
    " - when no. of price is High (36 lacs) that time the poor population is low (3) and thet time lake is present\n"
   ]
  },
  {
   "cell_type": "markdown",
   "id": "b5dc2a9c",
   "metadata": {},
   "source": [
    "#### Arrangement for the pivot and cross table"
   ]
  },
  {
   "cell_type": "code",
   "execution_count": 187,
   "id": "a62e7a56",
   "metadata": {},
   "outputs": [],
   "source": [
    "# col1 :room ,col 2: Airoport col3: price\n",
    "# col1 :room ,col 2: waterbody col3: price\n",
    "# col1 :airport ,col 2: waterbody col3: price\n"
   ]
  },
  {
   "cell_type": "markdown",
   "id": "f3551116",
   "metadata": {},
   "source": [
    "### col1 :room ,col 2: Airport col3: price\n"
   ]
  },
  {
   "cell_type": "code",
   "execution_count": 188,
   "id": "40488fa6",
   "metadata": {},
   "outputs": [],
   "source": [
    "df_house_price_data.columns"
   ]
  },
  {
   "cell_type": "markdown",
   "id": "a67066e9",
   "metadata": {},
   "source": [
    "### Cross tab"
   ]
  },
  {
   "cell_type": "code",
   "execution_count": 209,
   "id": "0f8ff051",
   "metadata": {},
   "outputs": [
    {
     "data": {
      "text/html": [
       "<div>\n",
       "<style scoped>\n",
       "    .dataframe tbody tr th:only-of-type {\n",
       "        vertical-align: middle;\n",
       "    }\n",
       "\n",
       "    .dataframe tbody tr th {\n",
       "        vertical-align: top;\n",
       "    }\n",
       "\n",
       "    .dataframe thead th {\n",
       "        text-align: right;\n",
       "    }\n",
       "</style>\n",
       "<table border=\"1\" class=\"dataframe\">\n",
       "  <thead>\n",
       "    <tr style=\"text-align: right;\">\n",
       "      <th>Airports</th>\n",
       "      <th>NO</th>\n",
       "      <th>YES</th>\n",
       "    </tr>\n",
       "    <tr>\n",
       "      <th>Room_No</th>\n",
       "      <th></th>\n",
       "      <th></th>\n",
       "    </tr>\n",
       "  </thead>\n",
       "  <tbody>\n",
       "    <tr>\n",
       "      <th>3.561</th>\n",
       "      <td>NaN</td>\n",
       "      <td>27.5</td>\n",
       "    </tr>\n",
       "    <tr>\n",
       "      <th>4.903</th>\n",
       "      <td>NaN</td>\n",
       "      <td>11.8</td>\n",
       "    </tr>\n",
       "    <tr>\n",
       "      <th>4.926</th>\n",
       "      <td>14.6</td>\n",
       "      <td>NaN</td>\n",
       "    </tr>\n",
       "    <tr>\n",
       "      <th>4.963</th>\n",
       "      <td>21.9</td>\n",
       "      <td>NaN</td>\n",
       "    </tr>\n",
       "    <tr>\n",
       "      <th>4.973</th>\n",
       "      <td>16.1</td>\n",
       "      <td>NaN</td>\n",
       "    </tr>\n",
       "    <tr>\n",
       "      <th>...</th>\n",
       "      <td>...</td>\n",
       "      <td>...</td>\n",
       "    </tr>\n",
       "    <tr>\n",
       "      <th>7.412</th>\n",
       "      <td>NaN</td>\n",
       "      <td>31.7</td>\n",
       "    </tr>\n",
       "    <tr>\n",
       "      <th>7.416</th>\n",
       "      <td>33.2</td>\n",
       "      <td>NaN</td>\n",
       "    </tr>\n",
       "    <tr>\n",
       "      <th>7.420</th>\n",
       "      <td>NaN</td>\n",
       "      <td>33.4</td>\n",
       "    </tr>\n",
       "    <tr>\n",
       "      <th>7.691</th>\n",
       "      <td>NaN</td>\n",
       "      <td>35.2</td>\n",
       "    </tr>\n",
       "    <tr>\n",
       "      <th>8.780</th>\n",
       "      <td>21.9</td>\n",
       "      <td>NaN</td>\n",
       "    </tr>\n",
       "  </tbody>\n",
       "</table>\n",
       "<p>338 rows × 2 columns</p>\n",
       "</div>"
      ],
      "text/plain": [
       "Airports    NO   YES\n",
       "Room_No             \n",
       "3.561      NaN  27.5\n",
       "4.903      NaN  11.8\n",
       "4.926     14.6   NaN\n",
       "4.963     21.9   NaN\n",
       "4.973     16.1   NaN\n",
       "...        ...   ...\n",
       "7.412      NaN  31.7\n",
       "7.416     33.2   NaN\n",
       "7.420      NaN  33.4\n",
       "7.691      NaN  35.2\n",
       "8.780     21.9   NaN\n",
       "\n",
       "[338 rows x 2 columns]"
      ]
     },
     "execution_count": 209,
     "metadata": {},
     "output_type": "execute_result"
    }
   ],
   "source": [
    "pd.crosstab(df_house_price_data.Room_No, df_house_price_data.Airports,values=df_house_price_data.Price,aggfunc='mean' )"
   ]
  },
  {
   "cell_type": "code",
   "execution_count": 208,
   "id": "e729cd9c",
   "metadata": {},
   "outputs": [
    {
     "data": {
      "text/html": [
       "<div>\n",
       "<style scoped>\n",
       "    .dataframe tbody tr th:only-of-type {\n",
       "        vertical-align: middle;\n",
       "    }\n",
       "\n",
       "    .dataframe tbody tr th {\n",
       "        vertical-align: top;\n",
       "    }\n",
       "\n",
       "    .dataframe thead th {\n",
       "        text-align: right;\n",
       "    }\n",
       "</style>\n",
       "<table border=\"1\" class=\"dataframe\">\n",
       "  <thead>\n",
       "    <tr style=\"text-align: right;\">\n",
       "      <th>Airports</th>\n",
       "      <th>NO</th>\n",
       "      <th>YES</th>\n",
       "    </tr>\n",
       "    <tr>\n",
       "      <th>Room_No</th>\n",
       "      <th></th>\n",
       "      <th></th>\n",
       "    </tr>\n",
       "  </thead>\n",
       "  <tbody>\n",
       "    <tr>\n",
       "      <th>3.561</th>\n",
       "      <td>NaN</td>\n",
       "      <td>27.5</td>\n",
       "    </tr>\n",
       "    <tr>\n",
       "      <th>4.903</th>\n",
       "      <td>NaN</td>\n",
       "      <td>11.8</td>\n",
       "    </tr>\n",
       "    <tr>\n",
       "      <th>4.926</th>\n",
       "      <td>14.6</td>\n",
       "      <td>NaN</td>\n",
       "    </tr>\n",
       "    <tr>\n",
       "      <th>4.963</th>\n",
       "      <td>21.9</td>\n",
       "      <td>NaN</td>\n",
       "    </tr>\n",
       "    <tr>\n",
       "      <th>4.973</th>\n",
       "      <td>16.1</td>\n",
       "      <td>NaN</td>\n",
       "    </tr>\n",
       "    <tr>\n",
       "      <th>...</th>\n",
       "      <td>...</td>\n",
       "      <td>...</td>\n",
       "    </tr>\n",
       "    <tr>\n",
       "      <th>7.412</th>\n",
       "      <td>NaN</td>\n",
       "      <td>31.7</td>\n",
       "    </tr>\n",
       "    <tr>\n",
       "      <th>7.416</th>\n",
       "      <td>33.2</td>\n",
       "      <td>NaN</td>\n",
       "    </tr>\n",
       "    <tr>\n",
       "      <th>7.420</th>\n",
       "      <td>NaN</td>\n",
       "      <td>33.4</td>\n",
       "    </tr>\n",
       "    <tr>\n",
       "      <th>7.691</th>\n",
       "      <td>NaN</td>\n",
       "      <td>35.2</td>\n",
       "    </tr>\n",
       "    <tr>\n",
       "      <th>8.780</th>\n",
       "      <td>21.9</td>\n",
       "      <td>NaN</td>\n",
       "    </tr>\n",
       "  </tbody>\n",
       "</table>\n",
       "<p>338 rows × 2 columns</p>\n",
       "</div>"
      ],
      "text/plain": [
       "Airports    NO   YES\n",
       "Room_No             \n",
       "3.561      NaN  27.5\n",
       "4.903      NaN  11.8\n",
       "4.926     14.6   NaN\n",
       "4.963     21.9   NaN\n",
       "4.973     16.1   NaN\n",
       "...        ...   ...\n",
       "7.412      NaN  31.7\n",
       "7.416     33.2   NaN\n",
       "7.420      NaN  33.4\n",
       "7.691      NaN  35.2\n",
       "8.780     21.9   NaN\n",
       "\n",
       "[338 rows x 2 columns]"
      ]
     },
     "execution_count": 208,
     "metadata": {},
     "output_type": "execute_result"
    }
   ],
   "source": [
    "pd.crosstab(df_house_price_data.Room_No, df_house_price_data.Airports,values=df_house_price_data.Price,aggfunc='mean' )"
   ]
  },
  {
   "cell_type": "markdown",
   "id": "cfa838e7",
   "metadata": {},
   "source": [
    "### col1 :room ,col 2: waterbody col3: price\n"
   ]
  },
  {
   "cell_type": "code",
   "execution_count": 207,
   "id": "1b7e586e",
   "metadata": {},
   "outputs": [
    {
     "data": {
      "text/html": [
       "<div>\n",
       "<style scoped>\n",
       "    .dataframe tbody tr th:only-of-type {\n",
       "        vertical-align: middle;\n",
       "    }\n",
       "\n",
       "    .dataframe tbody tr th {\n",
       "        vertical-align: top;\n",
       "    }\n",
       "\n",
       "    .dataframe thead th {\n",
       "        text-align: right;\n",
       "    }\n",
       "</style>\n",
       "<table border=\"1\" class=\"dataframe\">\n",
       "  <thead>\n",
       "    <tr style=\"text-align: right;\">\n",
       "      <th>waterbody</th>\n",
       "      <th>Lake</th>\n",
       "      <th>Lake and River</th>\n",
       "      <th>None</th>\n",
       "      <th>River</th>\n",
       "    </tr>\n",
       "    <tr>\n",
       "      <th>Room_No</th>\n",
       "      <th></th>\n",
       "      <th></th>\n",
       "      <th></th>\n",
       "      <th></th>\n",
       "    </tr>\n",
       "  </thead>\n",
       "  <tbody>\n",
       "    <tr>\n",
       "      <th>3.561</th>\n",
       "      <td>NaN</td>\n",
       "      <td>NaN</td>\n",
       "      <td>NaN</td>\n",
       "      <td>27.5</td>\n",
       "    </tr>\n",
       "    <tr>\n",
       "      <th>4.903</th>\n",
       "      <td>NaN</td>\n",
       "      <td>NaN</td>\n",
       "      <td>NaN</td>\n",
       "      <td>11.8</td>\n",
       "    </tr>\n",
       "    <tr>\n",
       "      <th>4.926</th>\n",
       "      <td>NaN</td>\n",
       "      <td>NaN</td>\n",
       "      <td>14.6</td>\n",
       "      <td>NaN</td>\n",
       "    </tr>\n",
       "    <tr>\n",
       "      <th>4.963</th>\n",
       "      <td>21.9</td>\n",
       "      <td>NaN</td>\n",
       "      <td>NaN</td>\n",
       "      <td>NaN</td>\n",
       "    </tr>\n",
       "    <tr>\n",
       "      <th>4.973</th>\n",
       "      <td>NaN</td>\n",
       "      <td>NaN</td>\n",
       "      <td>NaN</td>\n",
       "      <td>16.1</td>\n",
       "    </tr>\n",
       "    <tr>\n",
       "      <th>...</th>\n",
       "      <td>...</td>\n",
       "      <td>...</td>\n",
       "      <td>...</td>\n",
       "      <td>...</td>\n",
       "    </tr>\n",
       "    <tr>\n",
       "      <th>7.412</th>\n",
       "      <td>NaN</td>\n",
       "      <td>NaN</td>\n",
       "      <td>31.7</td>\n",
       "      <td>NaN</td>\n",
       "    </tr>\n",
       "    <tr>\n",
       "      <th>7.416</th>\n",
       "      <td>NaN</td>\n",
       "      <td>NaN</td>\n",
       "      <td>NaN</td>\n",
       "      <td>33.2</td>\n",
       "    </tr>\n",
       "    <tr>\n",
       "      <th>7.420</th>\n",
       "      <td>NaN</td>\n",
       "      <td>NaN</td>\n",
       "      <td>NaN</td>\n",
       "      <td>33.4</td>\n",
       "    </tr>\n",
       "    <tr>\n",
       "      <th>7.691</th>\n",
       "      <td>NaN</td>\n",
       "      <td>NaN</td>\n",
       "      <td>NaN</td>\n",
       "      <td>35.2</td>\n",
       "    </tr>\n",
       "    <tr>\n",
       "      <th>8.780</th>\n",
       "      <td>NaN</td>\n",
       "      <td>NaN</td>\n",
       "      <td>NaN</td>\n",
       "      <td>21.9</td>\n",
       "    </tr>\n",
       "  </tbody>\n",
       "</table>\n",
       "<p>338 rows × 4 columns</p>\n",
       "</div>"
      ],
      "text/plain": [
       "waterbody  Lake  Lake and River  None  River\n",
       "Room_No                                     \n",
       "3.561       NaN             NaN   NaN   27.5\n",
       "4.903       NaN             NaN   NaN   11.8\n",
       "4.926       NaN             NaN  14.6    NaN\n",
       "4.963      21.9             NaN   NaN    NaN\n",
       "4.973       NaN             NaN   NaN   16.1\n",
       "...         ...             ...   ...    ...\n",
       "7.412       NaN             NaN  31.7    NaN\n",
       "7.416       NaN             NaN   NaN   33.2\n",
       "7.420       NaN             NaN   NaN   33.4\n",
       "7.691       NaN             NaN   NaN   35.2\n",
       "8.780       NaN             NaN   NaN   21.9\n",
       "\n",
       "[338 rows x 4 columns]"
      ]
     },
     "execution_count": 207,
     "metadata": {},
     "output_type": "execute_result"
    }
   ],
   "source": [
    "pd.crosstab(df_house_price_data.Room_No, df_house_price_data.waterbody,values=df_house_price_data.Price,aggfunc='mean' )"
   ]
  },
  {
   "cell_type": "markdown",
   "id": "9cbfab7a",
   "metadata": {},
   "source": [
    "### col1 :airport ,col 2: waterbody col3: price\n"
   ]
  },
  {
   "cell_type": "code",
   "execution_count": 206,
   "id": "9da2fab4",
   "metadata": {},
   "outputs": [
    {
     "data": {
      "text/html": [
       "<div>\n",
       "<style scoped>\n",
       "    .dataframe tbody tr th:only-of-type {\n",
       "        vertical-align: middle;\n",
       "    }\n",
       "\n",
       "    .dataframe tbody tr th {\n",
       "        vertical-align: top;\n",
       "    }\n",
       "\n",
       "    .dataframe thead th {\n",
       "        text-align: right;\n",
       "    }\n",
       "</style>\n",
       "<table border=\"1\" class=\"dataframe\">\n",
       "  <thead>\n",
       "    <tr style=\"text-align: right;\">\n",
       "      <th>waterbody</th>\n",
       "      <th>Lake</th>\n",
       "      <th>Lake and River</th>\n",
       "      <th>None</th>\n",
       "      <th>River</th>\n",
       "    </tr>\n",
       "    <tr>\n",
       "      <th>Airports</th>\n",
       "      <th></th>\n",
       "      <th></th>\n",
       "      <th></th>\n",
       "      <th></th>\n",
       "    </tr>\n",
       "  </thead>\n",
       "  <tbody>\n",
       "    <tr>\n",
       "      <th>NO</th>\n",
       "      <td>21.385714</td>\n",
       "      <td>20.003226</td>\n",
       "      <td>20.655319</td>\n",
       "      <td>21.966154</td>\n",
       "    </tr>\n",
       "    <tr>\n",
       "      <th>YES</th>\n",
       "      <td>22.595238</td>\n",
       "      <td>22.695833</td>\n",
       "      <td>21.643077</td>\n",
       "      <td>22.924324</td>\n",
       "    </tr>\n",
       "  </tbody>\n",
       "</table>\n",
       "</div>"
      ],
      "text/plain": [
       "waterbody       Lake  Lake and River       None      River\n",
       "Airports                                                  \n",
       "NO         21.385714       20.003226  20.655319  21.966154\n",
       "YES        22.595238       22.695833  21.643077  22.924324"
      ]
     },
     "execution_count": 206,
     "metadata": {},
     "output_type": "execute_result"
    }
   ],
   "source": [
    "pd.crosstab(df_house_price_data.Airports, df_house_price_data.waterbody,values=df_house_price_data.Price,aggfunc='mean' )"
   ]
  },
  {
   "cell_type": "markdown",
   "id": "b40f0a46",
   "metadata": {},
   "source": [
    "### Pivot table"
   ]
  },
  {
   "cell_type": "code",
   "execution_count": 199,
   "id": "68c37e18",
   "metadata": {},
   "outputs": [],
   "source": [
    "df_house_price_data.columns"
   ]
  },
  {
   "cell_type": "code",
   "execution_count": 213,
   "id": "86826e05",
   "metadata": {},
   "outputs": [
    {
     "data": {
      "text/html": [
       "<div>\n",
       "<style scoped>\n",
       "    .dataframe tbody tr th:only-of-type {\n",
       "        vertical-align: middle;\n",
       "    }\n",
       "\n",
       "    .dataframe tbody tr th {\n",
       "        vertical-align: top;\n",
       "    }\n",
       "\n",
       "    .dataframe thead th {\n",
       "        text-align: right;\n",
       "    }\n",
       "</style>\n",
       "<table border=\"1\" class=\"dataframe\">\n",
       "  <thead>\n",
       "    <tr style=\"text-align: right;\">\n",
       "      <th>waterbody</th>\n",
       "      <th>Lake</th>\n",
       "      <th>Lake and River</th>\n",
       "      <th>None</th>\n",
       "      <th>River</th>\n",
       "    </tr>\n",
       "    <tr>\n",
       "      <th>Airports</th>\n",
       "      <th></th>\n",
       "      <th></th>\n",
       "      <th></th>\n",
       "      <th></th>\n",
       "    </tr>\n",
       "  </thead>\n",
       "  <tbody>\n",
       "    <tr>\n",
       "      <th>NO</th>\n",
       "      <td>21.385714</td>\n",
       "      <td>20.003226</td>\n",
       "      <td>20.655319</td>\n",
       "      <td>21.966154</td>\n",
       "    </tr>\n",
       "    <tr>\n",
       "      <th>YES</th>\n",
       "      <td>22.595238</td>\n",
       "      <td>22.695833</td>\n",
       "      <td>21.643077</td>\n",
       "      <td>22.924324</td>\n",
       "    </tr>\n",
       "  </tbody>\n",
       "</table>\n",
       "</div>"
      ],
      "text/plain": [
       "waterbody       Lake  Lake and River       None      River\n",
       "Airports                                                  \n",
       "NO         21.385714       20.003226  20.655319  21.966154\n",
       "YES        22.595238       22.695833  21.643077  22.924324"
      ]
     },
     "execution_count": 213,
     "metadata": {},
     "output_type": "execute_result"
    }
   ],
   "source": [
    "pd.pivot_table(data = df_house_price_data,index = 'Airports', columns = 'waterbody', values = 'Price',aggfunc='mean')"
   ]
  },
  {
   "cell_type": "code",
   "execution_count": 214,
   "id": "7ae5b0af",
   "metadata": {},
   "outputs": [
    {
     "data": {
      "text/plain": [
       "(376, 20)"
      ]
     },
     "execution_count": 214,
     "metadata": {},
     "output_type": "execute_result"
    }
   ],
   "source": [
    "df_house_price_data.shape"
   ]
  },
  {
   "cell_type": "code",
   "execution_count": null,
   "id": "71bfdb3c",
   "metadata": {},
   "outputs": [],
   "source": []
  }
 ],
 "metadata": {
  "kernelspec": {
   "display_name": "Python 3 (ipykernel)",
   "language": "python",
   "name": "python3"
  },
  "language_info": {
   "codemirror_mode": {
    "name": "ipython",
    "version": 3
   },
   "file_extension": ".py",
   "mimetype": "text/x-python",
   "name": "python",
   "nbconvert_exporter": "python",
   "pygments_lexer": "ipython3",
   "version": "3.11.3"
  }
 },
 "nbformat": 4,
 "nbformat_minor": 5
}
